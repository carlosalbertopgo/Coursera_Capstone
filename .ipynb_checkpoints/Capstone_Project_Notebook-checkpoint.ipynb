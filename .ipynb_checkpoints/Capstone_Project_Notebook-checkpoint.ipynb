{
 "cells": [
  {
   "cell_type": "markdown",
   "id": "fcc843e5-7cd2-408d-84c6-4af15bddc484",
   "metadata": {},
   "source": [
    "# Applied Data Science Capstone Project"
   ]
  },
  {
   "cell_type": "markdown",
   "id": "e0ea362f-e2f1-42bc-8735-5014ef2ba465",
   "metadata": {},
   "source": [
    "### Author: Carlos Paiva"
   ]
  },
  {
   "cell_type": "markdown",
   "id": "6db6855e-e609-4c73-b322-38550b1b3847",
   "metadata": {},
   "source": [
    "This notebook will be mainly used for the capstone project required to pass the 'Applied Data Science Course', as part of the process to obtain the Data Science Professional Certificate by IBM."
   ]
  },
  {
   "cell_type": "code",
   "execution_count": 1,
   "id": "016def9b-5d10-4576-9d50-5dab780cfdc7",
   "metadata": {},
   "outputs": [],
   "source": [
    "# Importing the required libraries:\n",
    "import pandas as pd\n",
    "import numpy as np"
   ]
  },
  {
   "cell_type": "code",
   "execution_count": 2,
   "id": "cbe34f45-8ebb-450c-9047-eb2f586f8126",
   "metadata": {},
   "outputs": [
    {
     "name": "stdout",
     "output_type": "stream",
     "text": [
      "Hello Capstone Project Course!\n"
     ]
    }
   ],
   "source": [
    "# Printing the required line:\n",
    "print('Hello Capstone Project Course!')"
   ]
  }
 ],
 "metadata": {
  "kernelspec": {
   "display_name": "Python 3",
   "language": "python",
   "name": "python3"
  },
  "language_info": {
   "codemirror_mode": {
    "name": "ipython",
    "version": 3
   },
   "file_extension": ".py",
   "mimetype": "text/x-python",
   "name": "python",
   "nbconvert_exporter": "python",
   "pygments_lexer": "ipython3",
   "version": "3.9.1"
  }
 },
 "nbformat": 4,
 "nbformat_minor": 5
}
